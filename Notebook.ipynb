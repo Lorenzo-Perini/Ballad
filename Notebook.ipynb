{
 "cells": [
  {
   "cell_type": "code",
   "execution_count": 1,
   "metadata": {},
   "outputs": [],
   "source": [
    "#!pip install scikit-optimize\n",
    "#!pip install anomatools"
   ]
  },
  {
   "cell_type": "code",
   "execution_count": 2,
   "metadata": {},
   "outputs": [
    {
     "name": "stderr",
     "output_type": "stream",
     "text": [
      "Warning: loading library to link with numpy returned an error\n",
      "numpy.ndarray size changed, may indicate binary incompatibility. Expected 96 from C header, got 88 from PyObject\n"
     ]
    }
   ],
   "source": [
    "%reload_ext autoreload\n",
    "%autoreload 2\n",
    "\n",
    "import numpy as np\n",
    "import pandas as pd\n",
    "import math\n",
    "from sklearn.model_selection import train_test_split\n",
    "import matplotlib.pyplot as plt\n",
    "import seaborn as sns\n",
    "from collections import Counter\n",
    "from sklearn.datasets import make_moons\n",
    "from anomatools.models import SSDO\n",
    "from skopt import gp_minimize\n",
    "from sklearn.preprocessing import StandardScaler, MinMaxScaler\n",
    "from scipy.io import arff\n",
    "import warnings\n",
    "\n",
    "from BALLAD import *\n",
    "\n",
    "def ignore_warnings():\n",
    "    warnings.simplefilter(action='ignore', category=FutureWarning)\n",
    "    warnings.simplefilter(action='ignore', category=Warning)\n",
    "    warnings.simplefilter(action='ignore', category=DeprecationWarning)\n",
    "ignore_warnings()\n"
   ]
  },
  {
   "cell_type": "code",
   "execution_count": 3,
   "metadata": {},
   "outputs": [
    {
     "data": {
      "image/png": "[encoded data removed]",
      "text/plain": [
       "<Figure size 432x288 with 1 Axes>"
      ]
     },
     "metadata": {
      "needs_background": "light"
     },
     "output_type": "display_data"
    }
   ],
   "source": [
    "np.random.seed(331)\n",
    "n_samples = 900\n",
    "n_anom = 100\n",
    "X = make_moons(n_samples=n_samples, noise=0.05, random_state=0)[0]-np.array([0.5, 0.25])\n",
    "X = np.concatenate([X, np.random.uniform(low=-3, high=3, size=(n_anom, 2))], axis=0)\n",
    "\n",
    "y_true = np.zeros(n_samples + n_anom, np.int)\n",
    "y_true[-n_anom:] = 1\n",
    "colors = np.array([\"#377eb8\", \"#ff7f00\"])\n",
    "plt.scatter(X[:, 0], X[:, 1], s=30, c=y_true, cmap=plt.cm.copper)\n",
    "\n",
    "plt.show()"
   ]
  },
  {
   "cell_type": "code",
   "execution_count": null,
   "metadata": {},
   "outputs": [],
   "source": []
  },
  {
   "cell_type": "code",
   "execution_count": 4,
   "metadata": {
    "scrolled": true
   },
   "outputs": [
    {
     "name": "stdout",
     "output_type": "stream",
     "text": [
      "Budget used: 10 out of: 200 --> Current Chosen Strategy: ___ Learning to Reject ___\n",
      "Test cost with NO rejection: 0.02\n",
      "Test cost with rejection: 0.00675\n",
      "Budget used: 20 out of: 200 --> Current Chosen Strategy: ___ Active Learning ___\n",
      "Test cost with NO rejection: 0.04\n",
      "Test cost with rejection: 0.0135\n",
      "Budget used: 30 out of: 200 --> Current Chosen Strategy: ___ Learning to Reject ___\n",
      "Test cost with NO rejection: 0.04\n",
      "Test cost with rejection: 0.013\n",
      "Budget used: 40 out of: 200 --> Current Chosen Strategy: ___ Learning to Reject ___\n",
      "Test cost with NO rejection: 0.04\n",
      "Test cost with rejection: 0.013\n",
      "Budget used: 50 out of: 200 --> Current Chosen Strategy: ___ Active Learning ___\n",
      "Test cost with NO rejection: 0.03\n",
      "Test cost with rejection: 0.01325\n",
      "Budget used: 60 out of: 200 --> Current Chosen Strategy: ___ Active Learning ___\n",
      "Test cost with NO rejection: 0.025\n",
      "Test cost with rejection: 0.01675\n",
      "Budget used: 70 out of: 200 --> Current Chosen Strategy: ___ Active Learning ___\n",
      "Test cost with NO rejection: 0.01\n",
      "Test cost with rejection: 0.011\n",
      "Budget used: 80 out of: 200 --> Current Chosen Strategy: ___ Active Learning ___\n",
      "Test cost with NO rejection: 0.02\n",
      "Test cost with rejection: 0.0145\n",
      "Budget used: 90 out of: 200 --> Current Chosen Strategy: ___ Active Learning ___\n",
      "Test cost with NO rejection: 0.015\n",
      "Test cost with rejection: 0.01275\n",
      "Budget used: 100 out of: 200 --> Current Chosen Strategy: ___ Active Learning ___\n",
      "Test cost with NO rejection: 0.04\n",
      "Test cost with rejection: 0.01925\n",
      "Budget used: 110 out of: 200 --> Current Chosen Strategy: ___ Active Learning ___\n",
      "Test cost with NO rejection: 0.025\n",
      "Test cost with rejection: 0.02475\n",
      "Budget used: 120 out of: 200 --> Current Chosen Strategy: ___ Active Learning ___\n",
      "Test cost with NO rejection: 0.035\n",
      "Test cost with rejection: 0.01075\n",
      "Budget used: 130 out of: 200 --> Current Chosen Strategy: ___ Active Learning ___\n",
      "Test cost with NO rejection: 0.01\n",
      "Test cost with rejection: 0.0135\n",
      "Budget used: 140 out of: 200 --> Current Chosen Strategy: ___ Active Learning ___\n",
      "Test cost with NO rejection: 0.02\n",
      "Test cost with rejection: 0.02025\n",
      "Budget used: 150 out of: 200 --> Current Chosen Strategy: ___ Active Learning ___\n",
      "Test cost with NO rejection: 0.02\n",
      "Test cost with rejection: 0.01575\n",
      "Budget used: 160 out of: 200 --> Current Chosen Strategy: ___ Active Learning ___\n",
      "Test cost with NO rejection: 0.015\n",
      "Test cost with rejection: 0.012\n",
      "Budget used: 170 out of: 200 --> Current Chosen Strategy: ___ Active Learning ___\n",
      "Test cost with NO rejection: 0.01\n",
      "Test cost with rejection: 0.0105\n",
      "Budget used: 180 out of: 200 --> Current Chosen Strategy: ___ Learning to Reject ___\n",
      "Test cost with NO rejection: 0.01\n",
      "Test cost with rejection: 0.0105\n",
      "Budget used: 190 out of: 200 --> Current Chosen Strategy: ___ Learning to Reject ___\n",
      "Test cost with NO rejection: 0.01\n",
      "Test cost with rejection: 0.01075\n",
      "Budget used: 200 out of: 200 --> Current Chosen Strategy: ___ Active Learning ___\n",
      "Test cost with NO rejection: 0.01\n",
      "Test cost with rejection: 0.00725\n"
     ]
    }
   ],
   "source": [
    "c_r = 0.05\n",
    "c_fp = 1\n",
    "c_fn = 1\n",
    "metric = 'entropy'\n",
    "save = ''\n",
    "seed = 331\n",
    "np.random.seed(seed)\n",
    "dataset_name = ''\n",
    "data_path = ''\n",
    "tot_budget = 200\n",
    "pool_budget = 10\n",
    "\n",
    "# Load data\n",
    "X_train, y_train, X_val, y_val, X_test, y_test, contamination = load_dataset(dataset_name, data_path, \n",
    "                                                                             random_state=seed)\n",
    "\n",
    "y_train_semitargets = np.zeros(len(y_train), np.int)\n",
    "y_val_semitargets = np.zeros(len(y_val), np.int)\n",
    "\n",
    "oldpred_AL, oldpred_LR = initialize_loop(np.concatenate((X_train, X_val)),contamination,seed,c_r,c_fp,\n",
    "                                         c_fn,metric)\n",
    "\n",
    "indicesRanked = np.array([])\n",
    "used_budget = 0\n",
    "ALreward = .99\n",
    "LRreward = 1\n",
    "strg = ''\n",
    "\n",
    "while used_budget < tot_budget:\n",
    "    pool_budget = min(pool_budget, tot_budget-used_budget)\n",
    "    detector = SSDO()\n",
    "    #Add labels\n",
    "    if ALreward >= LRreward:\n",
    "        print(\"Budget used:\", used_budget+pool_budget,\"out of:\", tot_budget,\n",
    "              \"--> Current Chosen Strategy: ___ Active Learning ___\")\n",
    "        strg = 'AL'\n",
    "\n",
    "        y_train_semitargets = add_training_labels(y_train_semitargets, y_train, indicesRanked, pool_budget)\n",
    "        detector.fit(X_train, y_train_semitargets)\n",
    "        labeld_idx_val = np.where(y_val_semitargets !=0)[0]\n",
    "        if len(labeld_idx_val) > 0:\n",
    "            val_probs = detector.predict_proba(X_val[labeld_idx_val])[:,1]\n",
    "            rejection_threshold = set_rejection_threshold(val_probs, y_val[labeld_idx_val], c_r, c_fp, c_fn)\n",
    "        else:\n",
    "            rejection_threshold = 0.0\n",
    "\n",
    "        predictions = detector.predict(np.concatenate((X_train, X_val)))\n",
    "        probs = detector.predict_proba(np.concatenate((X_train, X_val)))[:,1]\n",
    "\n",
    "        ALreward, _, oldpred_AL, _ = measure_rewards(predictions, probs, rejection_threshold, \n",
    "                                                                     oldpred_AL, oldpred_LR, metric = metric)\n",
    "\n",
    "        al_scores = abs(detector.predict_proba(X_train)[:,1] - 0.5)\n",
    "        indicesRanked = np.argsort(al_scores)\n",
    "    \n",
    "    else:\n",
    "        print(\"Budget used:\", used_budget+pool_budget,\"out of:\", tot_budget,\n",
    "              \"--> Current Chosen Strategy: ___ Learning to Reject ___\")\n",
    "        strg = 'LR'\n",
    "\n",
    "        y_val_semitargets = add_validation_labels(y_val_semitargets, y_val, pool_budget)\n",
    "        detector.fit(X_train, y_train_semitargets)\n",
    "        labeled_idx_val = np.where(y_val_semitargets !=0)[0]\n",
    "        val_probs = detector.predict_proba(X_val[labeled_idx_val])[:,1]\n",
    "        rejection_threshold = set_rejection_threshold(val_probs, y_val[labeled_idx_val], c_r, c_fp, c_fn)\n",
    "        predictions = detector.predict(np.concatenate((X_train, X_val)))\n",
    "        probs = detector.predict_proba(np.concatenate((X_train, X_val)))[:,1]\n",
    "        _, LRreward, _, oldpred_LR = measure_rewards(predictions, probs, rejection_threshold, \n",
    "                                                     oldpred_AL, oldpred_LR, metric = metric)\n",
    "\n",
    "    test_pred = detector.predict(X_test)\n",
    "    test_prob = detector.predict_proba(X_test)[:,1]\n",
    "    test_cost_NoRej, _, _, _ = cost_function(y_test, test_pred, c_r, c_fp, c_fn)\n",
    "    print(\"Test cost with NO rejection:\", np.round(test_cost_NoRej,5))\n",
    "    reject_indx = reject(test_pred, test_prob, rejection_threshold)\n",
    "    test_pred[reject_indx] = 2\n",
    "    test_cost_Rej, fpr, fnr, rr = cost_function(y_test, test_pred, c_r, c_fp, c_fn)\n",
    "    print(\"Test cost with rejection:\", np.round(test_cost_Rej,5))\n",
    "    used_budget+=pool_budget"
   ]
  },
  {
   "cell_type": "code",
   "execution_count": null,
   "metadata": {},
   "outputs": [],
   "source": []
  },
  {
   "cell_type": "code",
   "execution_count": null,
   "metadata": {},
   "outputs": [],
   "source": []
  },
  {
   "cell_type": "code",
   "execution_count": null,
   "metadata": {},
   "outputs": [],
   "source": []
  },
  {
   "cell_type": "code",
   "execution_count": null,
   "metadata": {},
   "outputs": [],
   "source": []
  },
  {
   "cell_type": "code",
   "execution_count": null,
   "metadata": {},
   "outputs": [],
   "source": []
  },
  {
   "cell_type": "code",
   "execution_count": null,
   "metadata": {},
   "outputs": [],
   "source": []
  }
 ],
 "metadata": {
  "kernelspec": {
   "display_name": "Python 3 (ipykernel)",
   "language": "python",
   "name": "python3"
  },
  "language_info": {
   "codemirror_mode": {
    "name": "ipython",
    "version": 3
   },
   "file_extension": ".py",
   "mimetype": "text/x-python",
   "name": "python",
   "nbconvert_exporter": "python",
   "pygments_lexer": "ipython3",
   "version": "3.9.7"
  }
 },
 "nbformat": 4,
 "nbformat_minor": 2
}
